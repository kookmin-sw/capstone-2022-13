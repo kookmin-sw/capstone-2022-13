{
 "cells": [
  {
   "cell_type": "code",
   "execution_count": 3,
   "source": [
    "def next_tag(file, tag, ambiguous_begins=[], ambiguous_ends=[], buffer='', chunk_size=100000):\n",
    "    text = buffer\n",
    "    \n",
    "    while True:\n",
    "        token_pos = text.find(tag[0])\n",
    "        if token_pos == -1:\n",
    "            new_text = file.read(chunk_size)\n",
    "            if len(new_text) == 0:\n",
    "                raise Exception('eof')\n",
    "            text += new_text\n",
    "            continue\n",
    "        text = text[token_pos + len(tag[0]):]\n",
    "        if not sum([text.startswith(banned) for banned in ambiguous_begins]):\n",
    "            break\n",
    "\n",
    "    token_pos = -1\n",
    "\n",
    "    while True:\n",
    "        token_pos = text.find(tag[1], token_pos + 1)\n",
    "        if token_pos == -1:\n",
    "            new_text = file.read(chunk_size)\n",
    "            if len(new_text) == 0:\n",
    "                raise Exception('eof')\n",
    "            text += new_text\n",
    "            continue\n",
    "        test_potential = text[:token_pos]\n",
    "        if not sum([test_potential.endswith(banned) for banned in ambiguous_ends]):\n",
    "            buffer = text[token_pos:]\n",
    "            text = test_potential\n",
    "            break\n",
    "\n",
    "    return text, buffer\n",
    "\n",
    "def replace_tag_with_symmetric(text, tag, replacing_string):\n",
    "    tag_begin = 0\n",
    "    while True:\n",
    "        tag_begin = text.find(tag, tag_begin)\n",
    "        if tag_begin == -1:\n",
    "            break\n",
    "        tag_end = text.find(tag, tag_begin + len(tag))\n",
    "        if tag_end == -1:\n",
    "            break\n",
    "        text = text[:tag_begin] + replacing_string + text[tag_end + len(tag):]\n",
    "    return text\n",
    "\n",
    "def replace_tag_with_asymmetric(text, tag, replacing_string):\n",
    "    offset = 0\n",
    "    while True:\n",
    "        tag_end = text.find(tag[1], offset)\n",
    "        if tag_end == -1:\n",
    "            break\n",
    "        tag_begin = text.rfind(tag[0], 0, tag_end)\n",
    "        if tag_begin == -1:\n",
    "            offset = tag_end + len(tag[1])\n",
    "            continue\n",
    "        text = text[:tag_begin] + replacing_string + text[tag_end + len(tag[1]):]\n",
    "        offset = tag_begin\n",
    "    return text\n",
    "\n",
    "def replace_tag_with(text, tag, replacing_string):\n",
    "    if tag[0] == tag[1]:\n",
    "        return replace_tag_with_symmetric(text, tag[0], replacing_string)\n",
    "    return replace_tag_with_asymmetric(text, tag, replacing_string)\n",
    "\n",
    "def remove_tag(text, tag):\n",
    "    return replace_tag_with(text, tag, '')\n",
    "\n",
    "def remove_repeats(text, repeating_string):\n",
    "    repeat_begin = 0\n",
    "    while True:\n",
    "        repeat_begin = text.find(repeating_string, repeat_begin)\n",
    "        if repeat_begin == -1:\n",
    "            break\n",
    "        repeat_begin += len(repeating_string)\n",
    "        repeat_end = repeat_begin\n",
    "        while text[repeat_end:repeat_end + len(repeating_string)] == repeating_string:\n",
    "            repeat_end += len(repeating_string)\n",
    "        text = text[:repeat_begin] + text[repeat_end:]\n",
    "    return text\n",
    "\n",
    "def remove_string(text, string_to_remove):\n",
    "    return text.replace(string_to_remove, '')"
   ],
   "outputs": [],
   "metadata": {}
  },
  {
   "cell_type": "code",
   "execution_count": 4,
   "source": [
    "def count_texts(file):\n",
    "    count = 0\n",
    "    buffer = ''\n",
    "    while True:\n",
    "        try:\n",
    "            text, buffer = next_tag(file, ('\"text\":\"', '\"'), ambiguous_ends=['\\\\'], buffer=buffer)\n",
    "            if len(text) > 0 and text[0] != '#':\n",
    "                count += 1\n",
    "        except Exception as e:\n",
    "            print(e)\n",
    "            break\n",
    "    return count"
   ],
   "outputs": [],
   "metadata": {}
  },
  {
   "cell_type": "code",
   "execution_count": 84,
   "source": [
    "def next_text(file, buffer=''):\n",
    "    while True:\n",
    "        title, buffer = next_tag(file, ('\"title\":\"', '\"'), ambiguous_ends=['\\\\'], buffer=buffer)\n",
    "        text, buffer = next_tag(file, ('\"text\":\"', '\"'), ambiguous_ends=['\\\\'], buffer=buffer)\n",
    "        if len(text) > 0 and text[0] != '#':\n",
    "            break\n",
    "\n",
    "    for replaced_string, replacing_string in [('\\\\\\\\', '\\\\'), ('\\\\n', '\\n'), (\"\\\\'\", \"'\"), ('\\\\\"', '\"'), ('\\\\#', '#'), ('\\n*', '\\n'), (' *', ' '), ('\\n ', '\\n')]:\n",
    "        text = text.replace(replaced_string, replacing_string)\n",
    "    text = replace_tag_with('\\n' + text, ('\\n||', '||\\n'), '\\n')\n",
    "    for tag_to_remove in [('[[파일', ']]'), ('[[', '|')]:\n",
    "        text = remove_tag(text, tag_to_remove)\n",
    "    for string_to_remove in ['[[', ']]']:\n",
    "        text = remove_string(text, string_to_remove)\n",
    "    for tag_to_remove in [('[', ']'), ('<', '>'), ('\\n=', '=\\n'), ('~~', '~~'), ('http://', '|'), ('https://', '|')]:\n",
    "        text = remove_tag(text, tag_to_remove)\n",
    "    for string_to_remove in ['{{{', '}}}', \"'''''\", \"''''\", \"'''\", \"''\", '#!HTML']:\n",
    "        text = remove_string(text, string_to_remove)\n",
    "    for repeating_string in ['\\n', ' ']:\n",
    "        text = remove_repeats(text, repeating_string)\n",
    "    text = text.strip()\n",
    "\n",
    "    return title, text, buffer"
   ],
   "outputs": [],
   "metadata": {}
  },
  {
   "cell_type": "code",
   "execution_count": 523,
   "source": [
    "with open('namuwiki_20210301.json') as file:\n",
    "    print(count_texts(file))"
   ],
   "outputs": [
    {
     "output_type": "stream",
     "name": "stdout",
     "text": [
      "eof\n",
      "569646\n"
     ]
    }
   ],
   "metadata": {}
  },
  {
   "cell_type": "code",
   "execution_count": 85,
   "source": [
    "import os\n",
    "import json\n",
    "from tqdm import tqdm"
   ],
   "outputs": [],
   "metadata": {}
  },
  {
   "cell_type": "code",
   "execution_count": 86,
   "source": [
    "os.makedirs('./output', exist_ok=True)\n",
    "\n",
    "file_size = os.path.getsize('namuwiki_20210301.json')\n",
    "with open('namuwiki_20210301.json') as file:\n",
    "    buffer = ''\n",
    "    try:\n",
    "        for index in tqdm(range(file_size), total=569646):\n",
    "            title, text, buffer = next_text(file, buffer=buffer)\n",
    "            filename = f'{index:06d}_' + ''.join(c for c in title if c.isalnum())\n",
    "            with open(f'./output/{filename}.json', 'w', encoding='UTF-8-sig') as json_file:\n",
    "                json_file.write(json.dumps({'title': title, 'text': text}, ensure_ascii=False))\n",
    "    except Exception as e:\n",
    "        print(e)"
   ],
   "outputs": [
    {
     "output_type": "stream",
     "name": "stderr",
     "text": [
      "100%|██████████| 569646/569646 [41:12<00:00, 230.39it/s]"
     ]
    },
    {
     "output_type": "stream",
     "name": "stdout",
     "text": [
      "eof\n"
     ]
    },
    {
     "output_type": "stream",
     "name": "stderr",
     "text": [
      "\n"
     ]
    }
   ],
   "metadata": {}
  },
  {
   "cell_type": "code",
   "execution_count": 87,
   "source": [
    "from glob import glob\n",
    "files = sorted(glob('output/*.json'))\n",
    "len(files)"
   ],
   "outputs": [
    {
     "output_type": "execute_result",
     "data": {
      "text/plain": [
       "569646"
      ]
     },
     "metadata": {},
     "execution_count": 87
    }
   ],
   "metadata": {}
  },
  {
   "cell_type": "code",
   "execution_count": 145,
   "source": [
    "import numpy as np\n",
    "index = np.random.randint(len(files))\n",
    "print(index)\n",
    "print(json.load(open(files[index], encoding='UTF-8-sig')))"
   ],
   "outputs": [
    {
     "output_type": "stream",
     "name": "stdout",
     "text": [
      "355388\n",
      "{'title': 'WWF 인 유어 하우스 16: 캐나디안 스탬피드', 'text': '분류:WWF 인 유어 하우스'}\n"
     ]
    }
   ],
   "metadata": {}
  },
  {
   "cell_type": "code",
   "execution_count": null,
   "source": [],
   "outputs": [],
   "metadata": {}
  }
 ],
 "metadata": {
  "orig_nbformat": 4,
  "language_info": {
   "name": "python",
   "version": "3.9.7",
   "mimetype": "text/x-python",
   "codemirror_mode": {
    "name": "ipython",
    "version": 3
   },
   "pygments_lexer": "ipython3",
   "nbconvert_exporter": "python",
   "file_extension": ".py"
  },
  "kernelspec": {
   "name": "python3",
   "display_name": "Python 3.9.7 64-bit ('base': conda)"
  },
  "interpreter": {
   "hash": "09d839b1ab2371af4015fbc5712cbb14d76e1f3737db670f6027e8bfaf3309c1"
  }
 },
 "nbformat": 4,
 "nbformat_minor": 2
}